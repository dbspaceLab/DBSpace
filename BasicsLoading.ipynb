{
 "cells": [
  {
   "cell_type": "markdown",
   "metadata": {},
   "source": [
    "# Working with differential local field potentials\n",
    "\n",
    "## Introduction\n",
    "This notebook is meant as brief documentation of a set of libraries developed for analysis of local field potentials (LFPs) recorded from a bidirectional deep brain stimulation (DBS) device. These recordings are likely the primary modality for an objective electrophysiologic disease readout for closed-loop DBS so this library is meant to capture the needed preprocessing steps to work with differential LFP.\n",
    "\n",
    "## Setting up our library\n",
    "The first step is to load in the DBSpace library. The library has several sub-libraries, but the one we are most interested in is the DBOsc library which contains all of our oscillatory analysis routines."
   ]
  },
  {
   "cell_type": "code",
   "execution_count": null,
   "metadata": {},
   "outputs": [],
   "source": [
    "import DBSpace"
   ]
  },
  {
   "cell_type": "markdown",
   "metadata": {},
   "source": [
    "## Setting up our class\n",
    "We'll define a new instatiation of our class. This object will be the primary object associated with the data $X_{ephys}$ and will be passed along to analysis classes.\n",
    "\n",
    "## Loading in a file\n",
    "\n",
    "First, we will load in a file using the DBSpace load_file function."
   ]
  },
  {
   "cell_type": "code",
   "execution_count": null,
   "metadata": {},
   "outputs": [],
   "source": []
  },
  {
   "cell_type": "markdown",
   "metadata": {},
   "source": [
    "Let's view out data in the time domain.\n",
    "\n",
    "\n",
    "While this view is helpful, especially in identifying artifacts, the oscillatory domain is where features of disease are being identified.\n",
    "\n",
    "Next, we'll do a frequency-domain transformation of both channels and plot them"
   ]
  },
  {
   "cell_type": "code",
   "execution_count": null,
   "metadata": {},
   "outputs": [],
   "source": []
  }
 ],
 "metadata": {
  "kernelspec": {
   "display_name": "Python 3",
   "language": "python",
   "name": "python3"
  },
  "language_info": {
   "codemirror_mode": {
    "name": "ipython",
    "version": 3
   },
   "file_extension": ".py",
   "mimetype": "text/x-python",
   "name": "python",
   "nbconvert_exporter": "python",
   "pygments_lexer": "ipython3",
   "version": "3.7.0"
  }
 },
 "nbformat": 4,
 "nbformat_minor": 2
}
