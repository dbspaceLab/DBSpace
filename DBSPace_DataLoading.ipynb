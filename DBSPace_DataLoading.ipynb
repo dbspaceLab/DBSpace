{
 "cells": [
  {
   "cell_type": "markdown",
   "metadata": {},
   "source": [
    "# DBSpace\n",
    "## Libraries and Tools for Data Importing\n",
    "\n",
    "### Overview\n",
    "DBSpace is a set of libraries and tools developed as a part of my PhD work in the lab of Dr. Helen Mayberg studying deep brain stimulation (DBS) for depression using multiple modalities of electrophysiology in clinical patients.\n",
    "\n",
    "### Introduction\n",
    "\n",
    "\n",
    "### Structure of Documentation\n",
    "\n",
    "First we'll cover the basics of loading in data.\n",
    "\n",
    "Next we'll cover one approach to cleaning the LFP recordings from the Activa PC+S.\n",
    "\n",
    "Finally we'll describe and demonstrate several power user oriented tools that can help in assessing and analysing LFP recordings from the PC+S.\n",
    "\n",
    "\n",
    "### Data structure\n",
    "\n",
    "#### Overview of directory and files\n",
    "The Activa PC+S stores recordings downloaded from a patient in a patient-specific directory. \n",
    "\n",
    "Within the patient directory, folders are created for each download session. Each folder is labeled according to the patient, date, and time of the download session.\n",
    "\n",
    "Within the folder are the files related to the PC+S LFP recordings. Three filetypes exist: txt (data), xml (select metadata), and .log (per-recording log files).\n",
    "\n",
    "\n",
    "#### Loading in the data structure\n",
    "A BrainRadio Frame (BRFrame) is used to load in chronic LFP data captured over the course of weeks/months.\n",
    "\n",
    "We'll demonstrate the loading in of a BRFrame object.\n",
    "\n",
    "\n",
    "\n",
    "### Preprocessing and Cleaning\n",
    "\n",
    "The Activa PC+S contains several noise and artifact processes.\n",
    "\n",
    "For the work done in this lab, noise will be defined as uncorrelated signal components from non-neural sources and artifact will be defined as correlated signal components from non-neural sources. This distinction is important as *averaging* eliminates uncorrelated signal components as the ensemble size approaches infinity while averaging does nothing to the correlated signal components.\n",
    "\n",
    "\n",
    "#### Stimulation artifacts\n",
    "Stimulation artifacts are the largest signals found in the LFP recording.\n",
    "\n",
    "Below is an example PSD from a recording taken in saline. There are no neural elements in this recording so the PSD features found here are known to be noise and/or artifact.\n",
    "\n",
    "\n",
    "(FIGURE)\n",
    "\n",
    "\n",
    "#### Temperature artifacts\n",
    "Temperature-related artifacts are evident in PC+S recordings. Below is a raster PSD demonstrating a dependence of specific features of the PSD to the ambient saline temperature of the recording.\n",
    "\n",
    "(FIGURE)\n",
    "\n"
   ]
  }
 ],
 "metadata": {
  "kernelspec": {
   "display_name": "Python 3",
   "language": "python",
   "name": "python3"
  },
  "language_info": {
   "codemirror_mode": {
    "name": "ipython",
    "version": 3
   },
   "file_extension": ".py",
   "mimetype": "text/x-python",
   "name": "python",
   "nbconvert_exporter": "python",
   "pygments_lexer": "ipython3",
   "version": "3.7.0"
  }
 },
 "nbformat": 4,
 "nbformat_minor": 2
}
