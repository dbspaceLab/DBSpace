{
 "cells": [
  {
   "cell_type": "markdown",
   "metadata": {},
   "source": [
    "# DBSpace\n",
    "\n",
    "#### Overview of directory and files\n",
    "The Activa PC+S stores recordings downloaded from a patient in a patient-specific directory. \n",
    "\n",
    "Within the patient directory, folders are created for each download session. Each folder is labeled according to the patient, date, and time of the download session.\n",
    "\n",
    "Within the folder are the files related to the PC+S LFP recordings. Three filetypes exist: txt (data), xml (select metadata), and .log (per-recording log files)."
   ]
  },
  {
   "cell_type": "markdown",
   "metadata": {},
   "source": [
    "## Loading in Brain Radio Data\n",
    "\n",
    "In this notebook we'll cover the basics of loading in Brain Radio LFP data."
   ]
  },
  {
   "cell_type": "code",
   "execution_count": 1,
   "metadata": {},
   "outputs": [],
   "source": [
    "import sys\n",
    "sys.path.append(\"../../\")"
   ]
  },
  {
   "cell_type": "markdown",
   "metadata": {},
   "source": [
    "## Setting up our library\n",
    "The first step is to load in the DBSpace library. The library has several sub-libraries, but for now we're interested in the top-level DBSpace module and its constituents."
   ]
  },
  {
   "cell_type": "code",
   "execution_count": 4,
   "metadata": {},
   "outputs": [
    {
     "data": {
      "text/plain": [
       "'/Users/mosadoluwaobatusin/Documents/projects/DBSpace/notebooks'"
      ]
     },
     "execution_count": 4,
     "metadata": {},
     "output_type": "execute_result"
    }
   ],
   "source": [
    "pwd"
   ]
  },
  {
   "cell_type": "code",
   "execution_count": 2,
   "metadata": {},
   "outputs": [],
   "source": [
    "import DBSpace as dbo"
   ]
  },
  {
   "cell_type": "markdown",
   "metadata": {},
   "source": [
    "## Setting up our class\n",
    "We'll define a new installation of our class. This object will be the primary object associated with the data $X_{ephys}$ and will be passed along to analysis classes.\n",
    "\n",
    "## Loading in a file\n",
    "\n",
    "First, we will load in a file using the DBSpace load_file function."
   ]
  },
  {
   "cell_type": "code",
   "execution_count": 5,
   "metadata": {},
   "outputs": [],
   "source": [
    "file = '/Users/mosadoluwaobatusin/Documents/projects/MaybergLab/Session_2018_05_07_Monday/DBS910_2018_04_30_14_29_52__MR_0.txt'"
   ]
  },
  {
   "cell_type": "markdown",
   "metadata": {},
   "source": [
    "## Plot raw time series of data\n",
    "\n",
    "While this view is helpful, especially in identifying artifacts, the oscillatory domain is where features of disease are being identified"
   ]
  },
  {
   "cell_type": "markdown",
   "metadata": {},
   "source": [
    "## Plot frequency-domain transformation\n",
    "Next, we'll do a frequency-domain transformation of both channels and plot them"
   ]
  },
  {
   "cell_type": "markdown",
   "metadata": {},
   "source": [
    "## Data structure\n",
    "#### Loading in the data structure\n",
    "A BrainRadio Frame (BRFrame) is used to load in chronic LFP data captured over the course of weeks/months.\n",
    "\n",
    "We'll demonstrate the loading in of a BRFrame object."
   ]
  },
  {
   "cell_type": "code",
   "execution_count": 6,
   "metadata": {},
   "outputs": [
    {
     "ename": "AttributeError",
     "evalue": "module 'DBSpace' has no attribute 'br_load_dict'",
     "output_type": "error",
     "traceback": [
      "\u001b[0;31m---------------------------------------------------------------------------\u001b[0m",
      "\u001b[0;31mAttributeError\u001b[0m                            Traceback (most recent call last)",
      "\u001b[0;32m<ipython-input-6-ff81373cbb33>\u001b[0m in \u001b[0;36m<module>\u001b[0;34m()\u001b[0m\n\u001b[0;32m----> 1\u001b[0;31m \u001b[0mdbo\u001b[0m\u001b[0;34m.\u001b[0m\u001b[0mbr_load_dict\u001b[0m\u001b[0;34m(\u001b[0m\u001b[0mfile\u001b[0m\u001b[0;34m)\u001b[0m\u001b[0;34m\u001b[0m\u001b[0m\n\u001b[0m",
      "\u001b[0;31mAttributeError\u001b[0m: module 'DBSpace' has no attribute 'br_load_dict'"
     ]
    }
   ],
   "source": [
    "dbo.br_load_dict(file)"
   ]
  },
  {
   "cell_type": "markdown",
   "metadata": {},
   "source": [
    "### Preprocessing and Cleaning\n",
    "\n",
    "The Activa PC+S contains several noise and artifact processes.\n",
    "\n",
    "For the work done in this lab, noise will be defined as uncorrelated signal components from non-neural sources and artifact will be defined as correlated signal components from non-neural sources. This distinction is important as *averaging* eliminates uncorrelated signal components as the ensemble size approaches infinity while averaging does nothing to the correlated signal components."
   ]
  },
  {
   "cell_type": "markdown",
   "metadata": {},
   "source": [
    "#### Stimulation artifacts\n",
    "Stimulation artifacts are the largest signals found in the LFP recording.\n",
    "\n",
    "Below is an example PSD from a recording taken in saline. There are no neural elements in this recording so the PSD features found here are known to be noise and/or artifact.\n",
    "\n",
    "\n",
    "(FIGURE)"
   ]
  },
  {
   "cell_type": "markdown",
   "metadata": {},
   "source": [
    "#### Temperature artifacts\n",
    "Temperature-related artifacts are evident in PC+S recordings. Below is a raster PSD demonstrating a dependence of specific features of the PSD to the ambient saline temperature of the recording.\n",
    "\n",
    "(FIGURE)"
   ]
  },
  {
   "cell_type": "markdown",
   "metadata": {},
   "source": [
    "### Example Usage: Distribution of $\\alpha$ power changes\n",
    "\n",
    "Let's use our Frame "
   ]
  }
 ],
 "metadata": {
  "kernelspec": {
   "display_name": "Python 3",
   "language": "python",
   "name": "python3"
  },
  "language_info": {
   "codemirror_mode": {
    "name": "ipython",
    "version": 3
   },
   "file_extension": ".py",
   "mimetype": "text/x-python",
   "name": "python",
   "nbconvert_exporter": "python",
   "pygments_lexer": "ipython3",
   "version": "3.7.0"
  }
 },
 "nbformat": 4,
 "nbformat_minor": 2
}
