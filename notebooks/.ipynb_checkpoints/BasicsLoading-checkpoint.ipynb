{
 "cells": [
  {
   "cell_type": "markdown",
   "metadata": {},
   "source": [
    "# DBSpace::Preprocessing\n",
    "## Working with differential local field potentials\n",
    "\n",
    "## Introduction\n",
    "This notebook is meant as brief documentation of a set of libraries developed for analysis of local field potentials (LFPs) recorded from a bidirectional deep brain stimulation (DBS) device. These recordings are likely the primary modality for an objective electrophysiologic disease readout for closed-loop DBS so this library is meant to capture the needed preprocessing steps to work with differential LFP.\n",
    "\n",
    "## Setting up our library\n",
    "The first step is to load in the DBSpace library. The library has several sub-libraries, but for now we're interested in the top-level DBSpace module and its constituents."
   ]
  },
  {
   "cell_type": "code",
   "execution_count": 1,
   "metadata": {},
   "outputs": [
    {
     "ename": "ModuleNotFoundError",
     "evalue": "No module named 'DBSpace'",
     "output_type": "error",
     "traceback": [
      "\u001b[0;31m---------------------------------------------------------------------------\u001b[0m",
      "\u001b[0;31mModuleNotFoundError\u001b[0m                       Traceback (most recent call last)",
      "\u001b[0;32m<ipython-input-1-fe55bc353ef5>\u001b[0m in \u001b[0;36m<module>\u001b[0;34m()\u001b[0m\n\u001b[0;32m----> 1\u001b[0;31m \u001b[0;32mimport\u001b[0m \u001b[0mDBSpace\u001b[0m \u001b[0;32mas\u001b[0m \u001b[0mdbo\u001b[0m\u001b[0;34m\u001b[0m\u001b[0m\n\u001b[0m",
      "\u001b[0;31mModuleNotFoundError\u001b[0m: No module named 'DBSpace'"
     ]
    }
   ],
   "source": [
    "import DBSpace as dbo"
   ]
  },
  {
   "cell_type": "markdown",
   "metadata": {},
   "source": [
    "## Setting up our class\n",
    "We'll define a new instatiation of our class. This object will be the primary object associated with the data $X_{ephys}$ and will be passed along to analysis classes.\n",
    "\n",
    "## Loading in a file\n",
    "\n",
    "First, we will load in a file using the DBSpace load_file function."
   ]
  },
  {
   "cell_type": "code",
   "execution_count": null,
   "metadata": {},
   "outputs": [],
   "source": []
  },
  {
   "cell_type": "markdown",
   "metadata": {},
   "source": [
    "Let's view out data in the time domain.\n",
    "\n",
    "\n",
    "While this view is helpful, especially in identifying artifacts, the oscillatory domain is where features of disease are being identified.\n",
    "\n",
    "Next, we'll do a frequency-domain transformation of both channels and plot them"
   ]
  },
  {
   "cell_type": "code",
   "execution_count": null,
   "metadata": {},
   "outputs": [],
   "source": []
  },
  {
   "cell_type": "markdown",
   "metadata": {},
   "source": [
    "### Data structure\n",
    "\n",
    "#### Overview of directory and files\n",
    "The Activa PC+S stores recordings downloaded from a patient in a patient-specific directory. \n",
    "\n",
    "Within the patient directory, folders are created for each download session. Each folder is labeled according to the patient, date, and time of the download session.\n",
    "\n",
    "Within the folder are the files related to the PC+S LFP recordings. Three filetypes exist: txt (data), xml (select metadata), and .log (per-recording log files).\n",
    "\n",
    "\n",
    "#### Loading in the data structure\n",
    "A BrainRadio Frame (BRFrame) is used to load in chronic LFP data captured over the course of weeks/months.\n",
    "\n",
    "We'll demonstrate the loading in of a BRFrame object.\n",
    "\n",
    "\n",
    "\n",
    "### Preprocessing and Cleaning\n",
    "\n",
    "The Activa PC+S contains several noise and artifact processes.\n",
    "\n",
    "For the work done in this lab, noise will be defined as uncorrelated signal components from non-neural sources and artifact will be defined as correlated signal components from non-neural sources. This distinction is important as *averaging* eliminates uncorrelated signal components as the ensemble size approaches infinity while averaging does nothing to the correlated signal components.\n",
    "\n",
    "\n",
    "#### Stimulation artifacts\n",
    "Stimulation artifacts are the largest signals found in the LFP recording.\n",
    "\n",
    "Below is an example PSD from a recording taken in saline. There are no neural elements in this recording so the PSD features found here are known to be noise and/or artifact.\n",
    "\n",
    "\n",
    "(FIGURE)\n",
    "\n",
    "\n",
    "#### Temperature artifacts\n",
    "Temperature-related artifacts are evident in PC+S recordings. Below is a raster PSD demonstrating a dependence of specific features of the PSD to the ambient saline temperature of the recording.\n",
    "\n",
    "(FIGURE)\n"
   ]
  }
 ],
 "metadata": {
  "kernelspec": {
   "display_name": "Python 3",
   "language": "python",
   "name": "python3"
  },
  "language_info": {
   "codemirror_mode": {
    "name": "ipython",
    "version": 3
   },
   "file_extension": ".py",
   "mimetype": "text/x-python",
   "name": "python",
   "nbconvert_exporter": "python",
   "pygments_lexer": "ipython3",
   "version": "3.7.0"
  }
 },
 "nbformat": 4,
 "nbformat_minor": 2
}
