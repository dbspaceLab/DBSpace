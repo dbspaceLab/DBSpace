{
 "cells": [
  {
   "cell_type": "markdown",
   "metadata": {},
   "source": [
    "# DBSpace\n",
    "## Environment for Clinical Neuroengineering in Deep Brain Stimulation\n",
    "\n",
    "\n",
    "### Overview\n",
    "DBSpace is a general library for clinical neuroengineering studies, with a particular emphasis on deep brain stimulation. DBSpace contains classes and methods to perform integrated analysis of brain networks measured using clinical electrophysiology.\n",
    "\n",
    "\n",
    "## History\n",
    "\n",
    "The foundations for this library were built from 2012 - 2018 during my PhD work in the labs of Dr. Helen Mayberg and Dr. Robert Butera. This library was developed as a part of a project in DBS for Depression but development was done in a generalized dynamical system model.\n",
    "\n",
    "\n",
    "## Dynamical Model\n",
    "This library assumes a dynamical systems model of the patient $P_i$. The model (Figure 1) is general enough to all applications of electrical neuromodulation.\n",
    "\n",
    "FIGURE\n",
    "\n",
    "The brain's dynamics $\\dot{x}$ \n",
    "\n",
    "Electrophysiology is a measurement of the brain's state $x$.\n",
    "\n",
    "Measurements of the clinical state are made as transformations of the behavioral state. Disease status is made as a binary mapping from the behavioral state to a categorical/countably finite clinical decision."
   ]
  },
  {
   "cell_type": "markdown",
   "metadata": {},
   "source": [
    "### Publications\n",
    "The DBSpace libraries were used in several publications (hopefully...). A partial list is found below\n",
    "\n",
    "* Confounding oscillations\n",
    "* Cortical Response to antidepressant DBS \n",
    "* Intraoperative online classifier for SCCwm-DBS"
   ]
  },
  {
   "cell_type": "markdown",
   "metadata": {},
   "source": [
    "### Structure\n",
    "DBSpace is divided into five sublibraries:\n",
    "* Preprocessing\n",
    "* Analysis\n",
    "* Simulation\n",
    "* Readout\n",
    "* Control"
   ]
  },
  {
   "cell_type": "markdown",
   "metadata": {},
   "source": [
    "### Preprocessing\n",
    "The primary goal of the classes and methods in preprocessing are to bring in LFP, dEEG, and ECoG data into a usable form. Flexibility of these routines are prioritized as new hardware emerges with differing noise and artifact profiles.\n",
    "\n",
    "For more detailed and hands-on documentation of the preprocessing sublibrary, go [here]()\n",
    "\n",
    "### Analysis\n",
    "The primary goal of the classes and methods in analysis are to actually make statements about the recordings with the assumption that they reflect brain signals. Most of this library is (as of 2018) written primarily for oscillatory-domain analysis with some generalized frequency-domain and time-frequency-domain analysis.\n",
    "\n",
    "For more detailed and hands-on documentation of the analysis sublibrary, go [here]()\n",
    "\n",
    "### Simulation\n",
    "Here, we simulate electrophysiology in a way relevant to analysis of real-world clinical electrophysiology using contemporary DBS tools.\n",
    "\n",
    "For more details, go [here]()\n",
    "\n",
    "### Readout\n",
    "Here, we take several regression based approaches to extract disease-state relevant features.\n",
    "\n",
    "For more details, go [here]()\n",
    "\n",
    "### Control\n",
    "In this sublibrary, we focus on capturing the short-term effects of DBS on measurable electrophysiology, with the assumption that DBS modulates dynamics in a latent brain network.\n",
    "\n",
    "For more details, go [here]().\n",
    "\n",
    "### Structure of Documentation\n",
    "\n",
    "First we'll cover the basics of loading in data.\n",
    "\n",
    "Next we'll cover one approach to cleaning the LFP recordings from the Activa PC+S.\n",
    "\n",
    "Finally we'll describe and demonstrate several power user oriented tools that can help in assessing and analysing LFP recordings from the PC+S."
   ]
  }
 ],
 "metadata": {
  "kernelspec": {
   "display_name": "Python 3",
   "language": "python",
   "name": "python3"
  },
  "language_info": {
   "codemirror_mode": {
    "name": "ipython",
    "version": 3
   },
   "file_extension": ".py",
   "mimetype": "text/x-python",
   "name": "python",
   "nbconvert_exporter": "python",
   "pygments_lexer": "ipython3",
   "version": "3.7.2"
  }
 },
 "nbformat": 4,
 "nbformat_minor": 2
}
