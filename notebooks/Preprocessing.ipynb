{
 "cells": [
  {
   "cell_type": "markdown",
   "metadata": {},
   "source": [
    "# Preprocessing Brain Radio Data\n",
    "\n",
    "### Overview\n",
    "Recordings from the BrainRadio must be preprocessed before analysis. Preprocessing can be minimal, like removing the first five seconds of amplifier settling, or extensive, like correcting for *gain compression* related distortions.\n",
    "\n",
    "For this notebook, we'll work with some definitions for noise and artifact.\n",
    "\n",
    "Signal will be defined as random processes originating from neural sources. Noise will be defined as everything that is not signal. Artifacts will be defined as noise that has structure in some way.\n",
    "\n",
    "### Noise and Artifacts\n",
    "In this section, we'll outline several artifacts in a PC+S recording.\n",
    "\n",
    "First, we start by loading in a recording taken in saline to serve as ground truth noise/artifact.\n",
    "\n",
    "### Preprocessing and Cleaning\n",
    "\n",
    "The Activa PC+S contains several noise and artifact processes.\n",
    "\n",
    "For the work done in this lab, noise will be defined as uncorrelated signal components from non-neural sources and artifact will be defined as correlated signal components from non-neural sources. This distinction is important as *averaging* eliminates uncorrelated signal components as the ensemble size approaches infinity while averaging does nothing to the correlated signal components.\n",
    "\n",
    "\n",
    "#### Stimulation artifacts\n",
    "Stimulation artifacts are the largest signals found in the LFP recording.\n",
    "\n",
    "Below is an example PSD from a recording taken in saline. There are no neural elements in this recording so the PSD features found here are known to be noise and/or artifact.\n",
    "\n",
    "\n",
    "(FIGURE)\n",
    "\n",
    "\n",
    "#### Temperature artifacts\n",
    "Temperature-related artifacts are evident in PC+S recordings. Below is a raster PSD demonstrating a dependence of specific features of the PSD to the ambient saline temperature of the recording.\n",
    "\n",
    "(FIGURE)"
   ]
  }
 ],
 "metadata": {
  "kernelspec": {
   "display_name": "Python 3",
   "language": "python",
   "name": "python3"
  },
  "language_info": {
   "codemirror_mode": {
    "name": "ipython",
    "version": 3
   },
   "file_extension": ".py",
   "mimetype": "text/x-python",
   "name": "python",
   "nbconvert_exporter": "python",
   "pygments_lexer": "ipython3",
   "version": "3.7.1"
  }
 },
 "nbformat": 4,
 "nbformat_minor": 2
}
