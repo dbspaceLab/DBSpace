{
 "cells": [
  {
   "cell_type": "markdown",
   "metadata": {},
   "source": [
    "# Gain compression in SCC-LFP\n",
    "\n",
    "The PC+S relies on a differential channel to record LFP during active stimulation. While the two electrodes of the channel are geometrically symmetric around the stimulation electrode, the recording impedances of the two electrodes are almost certainly not equal. This limits the ability to reject the stimulation artifact and leads to leakage of a fraction of the stimulation into the differential mode of the amplifier. This fraction may be sufficient to drive inputs into the amplifier out of specification, causing *gain compression*.\n",
    "\n",
    "\n",
    "## Setting our simulation up\n",
    "First, we import the libraries we need."
   ]
  },
  {
   "cell_type": "code",
   "execution_count": 4,
   "metadata": {},
   "outputs": [
    {
     "ename": "ModuleNotFoundError",
     "evalue": "No module named 'DBSpace'",
     "output_type": "error",
     "traceback": [
      "\u001b[0;31m---------------------------------------------------------------------------\u001b[0m",
      "\u001b[0;31mModuleNotFoundError\u001b[0m                       Traceback (most recent call last)",
      "\u001b[0;32m<ipython-input-4-1be139a3ee97>\u001b[0m in \u001b[0;36m<module>\u001b[0;34m()\u001b[0m\n\u001b[0;32m----> 1\u001b[0;31m \u001b[0;32mimport\u001b[0m \u001b[0mDBSpace\u001b[0m \u001b[0;32mas\u001b[0m \u001b[0mdbo\u001b[0m\u001b[0;34m\u001b[0m\u001b[0;34m\u001b[0m\u001b[0m\n\u001b[0m\u001b[1;32m      2\u001b[0m \u001b[0;32mimport\u001b[0m \u001b[0mDBSpace\u001b[0m\u001b[0;34m.\u001b[0m\u001b[0msimulator\u001b[0m \u001b[0;32mas\u001b[0m \u001b[0mdbo_sim\u001b[0m\u001b[0;34m\u001b[0m\u001b[0;34m\u001b[0m\u001b[0m\n",
      "\u001b[0;31mModuleNotFoundError\u001b[0m: No module named 'DBSpace'"
     ]
    }
   ],
   "source": [
    "import DBSpace as dbo\n",
    "import DBSpace.simulator as dbo_sim\n"
   ]
  },
  {
   "cell_type": "code",
   "execution_count": null,
   "metadata": {},
   "outputs": [],
   "source": [
    "    diff_run = sim_diff(Ad=200,wform='moresine4',clock=True,stim_v=8)\n",
    "    #diff_run.set_brain()\n",
    "    #diff_run.set_stim(wform='ipg')\n",
    "    \n",
    "    amp_run = sim_amp(family='tanh',noise=1e-6,sig_amp_gain=1)\n",
    "    \n",
    "    #diff_run.plot_V_out(1000,1200)\n",
    "    #diff_out = diff_run.V_out(1000,1100)['sim_1']\n",
    "    Z1 = 1221\n",
    "    Z3 = 900\n",
    "    \n",
    "    amp_run.PAPER_plot_V_out(diff_run,Z1,Z3)"
   ]
  }
 ],
 "metadata": {
  "kernelspec": {
   "display_name": "Python 3",
   "language": "python",
   "name": "python3"
  },
  "language_info": {
   "codemirror_mode": {
    "name": "ipython",
    "version": 3
   },
   "file_extension": ".py",
   "mimetype": "text/x-python",
   "name": "python",
   "nbconvert_exporter": "python",
   "pygments_lexer": "ipython3",
   "version": "3.7.1"
  }
 },
 "nbformat": 4,
 "nbformat_minor": 2
}
