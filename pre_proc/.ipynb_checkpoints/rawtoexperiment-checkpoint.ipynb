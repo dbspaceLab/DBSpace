{
 "cells": [
  {
   "cell_type": "markdown",
   "metadata": {},
   "source": [
    "The objective of this script will be to create an experiment folder with duplicate raw files renamed\n",
    "to actual experiments."
   ]
  },
  {
   "cell_type": "code",
   "execution_count": 1,
   "metadata": {},
   "outputs": [],
   "source": [
    "# import required modules / libraries\n",
    "import os\n",
    "import glob\n",
    "import numpy as np\n",
    "import json\n",
    "import re\n",
    "from datetime import datetime\n",
    "import shutil\n",
    "import json"
   ]
  },
  {
   "cell_type": "code",
   "execution_count": 2,
   "metadata": {},
   "outputs": [],
   "source": [
    "# Note the location of the raw files output from Sensing tablet\n",
    "root = '/Volumes/MaybergStorage//DoluObatusin/projects/LFP_Analysis/raw'\n",
    "# Create temporary folder as experiment folder\n",
    "temp_experiment = '/Volumes/MaybergStorage//DoluObatusin/projects/LFP_Analysis/experiment'"
   ]
  },
  {
   "cell_type": "code",
   "execution_count": 274,
   "metadata": {},
   "outputs": [],
   "source": [
    "def ins_enable_timestamps(log_file):\n",
    "    pattern = re.compile(\"Enable Sensing\")\n",
    "    for i, line in enumerate(open(log_file)):\n",
    "        for match in re.finditer(pattern, line):\n",
    "            t_sensing = line[15:]\n",
    "            datetime_object1 = datetime.strptime(t_sensing.strip(), '%m/%d/%Y %I:%M:%S %p')\n",
    "#             print(\"Enable Sensing:\",datetime_object2)\n",
    "\n",
    "    pattern = re.compile(\"INS TimeStamp\")\n",
    "    for i, line in enumerate(open(log_file)):\n",
    "        for match in re.finditer(pattern, line):\n",
    "            t_ins = line[14:]\n",
    "            datetime_object2 = datetime.strptime(t_ins.strip(), '%m/%d/%Y %I:%M:%S %p')\n",
    "#             print(\"INS TimeStamp:\",datetime_object1)\n",
    "        #         print('Found on line %s' % (i+1))\n",
    "\n",
    "        # Convert Enable Sensing to datetime\n",
    "\n",
    "    return datetime_object1, datetime_object2"
   ]
  },
  {
   "cell_type": "code",
   "execution_count": 160,
   "metadata": {},
   "outputs": [],
   "source": [
    "def create_logdict(root):\n",
    "    log_files = []\n",
    "    logfile_dict = {}\n",
    "    for path, directories, files in os.walk(root, topdown=True):\n",
    "        if files:\n",
    "            for f in files:\n",
    "                if f.endswith('LOG.txt'):\n",
    "                    log_files.append(f)\n",
    "                    logfile_dict[path] = log_files\n",
    "            log_files = []\n",
    "    return logfile_dict"
   ]
  },
  {
   "cell_type": "code",
   "execution_count": 305,
   "metadata": {},
   "outputs": [],
   "source": [
    "# Create a data dictionary of path and log files - only include paths that have log files\n",
    "# logfile_dict = create_logdict(root)  \n",
    "\n",
    "pathfiles_dict = {}\n",
    "path_files = []\n",
    "# Operate according to each path\n",
    "for key in logfile_dict:\n",
    "#     print(key)\n",
    "    \n",
    "# create a folder in path based on log file\n",
    "    for k in logfile_dict[key]:\n",
    "#         print(k)\n",
    "        log_file = key + '/'+ k\n",
    "        if k.endswith('LOG.txt'):\n",
    "#             pass\n",
    "            new_folder = log_file.strip('_LOG.txt')\n",
    "            if not(os.path.exists(new_folder)):\n",
    "                os.makedirs(new_folder)\n",
    "# Get INS & Sensing start time from log file\n",
    "#         print(log_file)\n",
    "        datetime_object1, datetime_object2 = ins_enable_timestamps(log_file)\n",
    "#         print(datetime_object1)\n",
    "#         print(datetime_object2)\n",
    "# Loop through path to get all files\n",
    "#     print( ' ')\n",
    "        for path, directories, files in os.walk(key, topdown=True):\n",
    "            if files:\n",
    "    #             print(files)\n",
    "                for f in files: \n",
    "                    if f.endswith('.xml') or f.endswith('.txt'):\n",
    "        #                 print(f)\n",
    "                        datetime_object3 = datetime.strptime(f[6:27], '_%Y_%m_%d_%H_%M_%S_')\n",
    "    #                     print(f,'--',datetime_object3)\n",
    "\n",
    "                    else:\n",
    "                        continue\n",
    "\n",
    "    # compare each file's timestamp to INS & Sensing starttime and add to dictionary of {new folder: files}\n",
    "                    if datetime_object1 <= datetime_object3 <= datetime_object2:\n",
    "                        path_files.append( key + '/'+ f)\n",
    "                        pathfiles_dict[new_folder] = path_files\n",
    "                path_files = []\n",
    "       \n",
    "\n",
    "    # Finally move files into their respective session folders\n",
    "for key in pathfiles_dict:\n",
    "    print(key)\n",
    "    print('-'*40)\n",
    "    for i in pathfiles_dict[key]:\n",
    "#         print(i)\n",
    "        if os.path.exists(i):\n",
    "            shutil.move(i, key)\n",
    "        else:\n",
    "            continue\n",
    "            \n",
    "#Get the file name for the new file to write\n",
    "patient_id = 'DBS910'\n",
    "dst = root + '/' + patient_id + '_' +'pathfiles.txt'\n",
    "# Save map to text file\n",
    "# If the file name exists, write a JSON string into the file.\n",
    "if dst:\n",
    "    # Writing JSON data\n",
    "    with open(dst, 'w') as f:\n",
    "        json.dump(pathfiles_dict, f)# use `json.loads` to do the reverse"
   ]
  }
 ],
 "metadata": {
  "kernelspec": {
   "display_name": "Python 3",
   "language": "python",
   "name": "python3"
  },
  "language_info": {
   "codemirror_mode": {
    "name": "ipython",
    "version": 3
   },
   "file_extension": ".py",
   "mimetype": "text/x-python",
   "name": "python",
   "nbconvert_exporter": "python",
   "pygments_lexer": "ipython3",
   "version": "3.6.3"
  }
 },
 "nbformat": 4,
 "nbformat_minor": 2
}
