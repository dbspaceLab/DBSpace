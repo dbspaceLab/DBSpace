{
 "cells": [
  {
   "cell_type": "markdown",
   "metadata": {},
   "source": [
    "# dLFP Fidelity\n",
    "\n",
    "## Gain compression artifacts\n",
    "\n",
    "\n",
    "## Overview\n",
    "In this notebook we'll illustrate the frequency-domain distortions caused by gain compression, a source of confounding distortions in differentially recorded local field potentials (dLFP)\n",
    "\n",
    "In dLFP, gain compression can occur if the impedances of the recording electrodes are *mismatched*.\n",
    "\n",
    "This work is a part of a publication (submitted, [preprint]()).\n",
    "\n",
    "## Model setup"
   ]
  },
  {
   "cell_type": "code",
   "execution_count": 1,
   "metadata": {},
   "outputs": [
    {
     "name": "stdout",
     "output_type": "stream",
     "text": [
      "Using DBSpace LATEST\n"
     ]
    }
   ],
   "source": [
    "%reset -f\n",
    "import DBSpace as dbo\n",
    "import DBSpace.simulation.diff_model as sim\n",
    "\n",
    "import numpy as np\n",
    "import allantools\n",
    "from allantools.noise import pink as f_noise\n",
    "import matplotlib.pyplot as plt\n",
    "\n",
    "import scipy.signal as sig\n",
    "from scipy.ndimage.filters import gaussian_filter1d\n",
    "\n",
    "import pdb\n",
    "\n",
    "#plt.close('all')\n",
    "\n",
    "import seaborn as sns\n",
    "sns.set_context(\"paper\")\n",
    "\n",
    "sns.set(font_scale=2)\n",
    "sns.set_style(\"ticks\")\n",
    "sns.set_style(\"white\")\n",
    "plt.rcParams['image.cmap'] = 'jet'"
   ]
  },
  {
   "cell_type": "code",
   "execution_count": 2,
   "metadata": {},
   "outputs": [],
   "source": [
    "diff_run = sim.sim_diff(Ad=200,wform='moresine4',clock=True,stim_v=4)"
   ]
  },
  {
   "cell_type": "code",
   "execution_count": 3,
   "metadata": {},
   "outputs": [],
   "source": [
    "amp_run = sim.sim_amp(family='pwlinear',noise=1e-6,sig_amp_gain=1)"
   ]
  },
  {
   "cell_type": "code",
   "execution_count": 4,
   "metadata": {},
   "outputs": [
    {
     "ename": "NameError",
     "evalue": "name 'diff_obj' is not defined",
     "output_type": "error",
     "traceback": [
      "\u001b[0;31m---------------------------------------------------------------------------\u001b[0m",
      "\u001b[0;31mNameError\u001b[0m                                 Traceback (most recent call last)",
      "\u001b[0;32m<ipython-input-4-ed6494732b6a>\u001b[0m in \u001b[0;36m<module>\u001b[0;34m\u001b[0m\n\u001b[1;32m      4\u001b[0m \u001b[0mZ3\u001b[0m \u001b[0;34m=\u001b[0m \u001b[0;36m1200\u001b[0m\u001b[0;34m\u001b[0m\u001b[0;34m\u001b[0m\u001b[0m\n\u001b[1;32m      5\u001b[0m \u001b[0;34m\u001b[0m\u001b[0m\n\u001b[0;32m----> 6\u001b[0;31m \u001b[0mamp_run\u001b[0m\u001b[0;34m.\u001b[0m\u001b[0msimulate\u001b[0m\u001b[0;34m(\u001b[0m\u001b[0mZ1\u001b[0m\u001b[0;34m,\u001b[0m\u001b[0mZ3\u001b[0m\u001b[0;34m)\u001b[0m\u001b[0;34m\u001b[0m\u001b[0;34m\u001b[0m\u001b[0m\n\u001b[0m\u001b[1;32m      7\u001b[0m \u001b[0mamp_run\u001b[0m\u001b[0;34m.\u001b[0m\u001b[0mplot\u001b[0m\u001b[0;34m(\u001b[0m\u001b[0;34m)\u001b[0m\u001b[0;34m\u001b[0m\u001b[0;34m\u001b[0m\u001b[0m\n\u001b[1;32m      8\u001b[0m \u001b[0;31m#amp_run.PAPER_plot_V_out(diff_run,Z1,Z3)\u001b[0m\u001b[0;34m\u001b[0m\u001b[0;34m\u001b[0m\u001b[0;34m\u001b[0m\u001b[0m\n",
      "\u001b[0;32m~/Dropbox/projects/Research/MDD-DBS/Ephys/DBSpace/simulation/diff_model.py\u001b[0m in \u001b[0;36msimulate\u001b[0;34m(self, Z1, Z3)\u001b[0m\n\u001b[1;32m    350\u001b[0m \u001b[0;34m\u001b[0m\u001b[0m\n\u001b[1;32m    351\u001b[0m     \u001b[0;32mdef\u001b[0m \u001b[0msimulate\u001b[0m\u001b[0;34m(\u001b[0m\u001b[0mself\u001b[0m\u001b[0;34m,\u001b[0m\u001b[0mZ1\u001b[0m\u001b[0;34m,\u001b[0m\u001b[0mZ3\u001b[0m\u001b[0;34m)\u001b[0m\u001b[0;34m:\u001b[0m\u001b[0;34m\u001b[0m\u001b[0;34m\u001b[0m\u001b[0m\n\u001b[0;32m--> 352\u001b[0;31m         \u001b[0mdiff_out\u001b[0m \u001b[0;34m=\u001b[0m \u001b[0msig\u001b[0m\u001b[0;34m.\u001b[0m\u001b[0mdecimate\u001b[0m\u001b[0;34m(\u001b[0m\u001b[0mdiff_obj\u001b[0m\u001b[0;34m.\u001b[0m\u001b[0mV_out\u001b[0m\u001b[0;34m(\u001b[0m\u001b[0mZ1\u001b[0m\u001b[0;34m,\u001b[0m\u001b[0mZ3\u001b[0m\u001b[0;34m)\u001b[0m\u001b[0;34m[\u001b[0m\u001b[0;34m'sim_1'\u001b[0m\u001b[0;34m]\u001b[0m\u001b[0;34m,\u001b[0m\u001b[0;36m10\u001b[0m\u001b[0;34m)\u001b[0m\u001b[0;34m\u001b[0m\u001b[0;34m\u001b[0m\u001b[0m\n\u001b[0m\u001b[1;32m    353\u001b[0m         \u001b[0mFs\u001b[0m \u001b[0;34m=\u001b[0m \u001b[0mdiff_obj\u001b[0m\u001b[0;34m.\u001b[0m\u001b[0mFs\u001b[0m\u001b[0;34m\u001b[0m\u001b[0;34m\u001b[0m\u001b[0m\n\u001b[1;32m    354\u001b[0m \u001b[0;34m\u001b[0m\u001b[0m\n",
      "\u001b[0;31mNameError\u001b[0m: name 'diff_obj' is not defined"
     ]
    }
   ],
   "source": [
    "#diff_run.plot_V_out(1000,1200)\n",
    "#diff_out = diff_run.V_out(1000,1100)['sim_1']\n",
    "Z1 = 1221\n",
    "Z3 = 1200\n",
    "\n",
    "amp_run.simulate(Z1,Z3)\n",
    "amp_run.plot()\n",
    "#amp_run.PAPER_plot_V_out(diff_run,Z1,Z3)"
   ]
  },
  {
   "cell_type": "code",
   "execution_count": null,
   "metadata": {},
   "outputs": [],
   "source": []
  }
 ],
 "metadata": {
  "kernelspec": {
   "display_name": "Python 3",
   "language": "python",
   "name": "python3"
  },
  "language_info": {
   "codemirror_mode": {
    "name": "ipython",
    "version": 3
   },
   "file_extension": ".py",
   "mimetype": "text/x-python",
   "name": "python",
   "nbconvert_exporter": "python",
   "pygments_lexer": "ipython3",
   "version": "3.8.0"
  }
 },
 "nbformat": 4,
 "nbformat_minor": 2
}
